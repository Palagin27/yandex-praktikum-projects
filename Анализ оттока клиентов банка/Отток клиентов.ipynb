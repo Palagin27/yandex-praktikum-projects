{
 "cells": [
  {
   "cell_type": "markdown",
   "metadata": {},
   "source": [
    "# Отток клиентов"
   ]
  },
  {
   "cell_type": "markdown",
   "metadata": {},
   "source": [
    "Из «Бета-Банка» стали уходить клиенты. Каждый месяц. Немного, но заметно. Банковские маркетологи посчитали: сохранять текущих клиентов дешевле, чем привлекать новых.\n",
    "\n",
    "Нужно спрогнозировать, уйдёт клиент из банка в ближайшее время или нет. Вам предоставлены исторические данные о поведении клиентов и расторжении договоров с банком. \n",
    "\n",
    "Постройте модель с предельно большим значением *F1*-меры. Чтобы сдать проект успешно, нужно довести метрику до 0.59. Проверьте *F1*-меру на тестовой выборке самостоятельно.\n",
    "\n",
    "Дополнительно измеряйте *AUC-ROC*, сравнивайте её значение с *F1*-мерой.\n"
   ]
  },
  {
   "cell_type": "markdown",
   "metadata": {},
   "source": [
    "# 1. Подготовка данных"
   ]
  },
  {
   "cell_type": "code",
   "execution_count": 97,
   "metadata": {},
   "outputs": [
    {
     "name": "stdout",
     "output_type": "stream",
     "text": [
      "<class 'pandas.core.frame.DataFrame'>\n",
      "RangeIndex: 10000 entries, 0 to 9999\n",
      "Data columns (total 14 columns):\n",
      "RowNumber          10000 non-null int64\n",
      "CustomerId         10000 non-null int64\n",
      "Surname            10000 non-null object\n",
      "CreditScore        10000 non-null int64\n",
      "Geography          10000 non-null object\n",
      "Gender             10000 non-null object\n",
      "Age                10000 non-null int64\n",
      "Tenure             9091 non-null float64\n",
      "Balance            10000 non-null float64\n",
      "NumOfProducts      10000 non-null int64\n",
      "HasCrCard          10000 non-null int64\n",
      "IsActiveMember     10000 non-null int64\n",
      "EstimatedSalary    10000 non-null float64\n",
      "Exited             10000 non-null int64\n",
      "dtypes: float64(3), int64(8), object(3)\n",
      "memory usage: 1.1+ MB\n"
     ]
    },
    {
     "data": {
      "text/html": [
       "<div>\n",
       "<style scoped>\n",
       "    .dataframe tbody tr th:only-of-type {\n",
       "        vertical-align: middle;\n",
       "    }\n",
       "\n",
       "    .dataframe tbody tr th {\n",
       "        vertical-align: top;\n",
       "    }\n",
       "\n",
       "    .dataframe thead th {\n",
       "        text-align: right;\n",
       "    }\n",
       "</style>\n",
       "<table border=\"1\" class=\"dataframe\">\n",
       "  <thead>\n",
       "    <tr style=\"text-align: right;\">\n",
       "      <th></th>\n",
       "      <th>RowNumber</th>\n",
       "      <th>CustomerId</th>\n",
       "      <th>CreditScore</th>\n",
       "      <th>Age</th>\n",
       "      <th>Tenure</th>\n",
       "      <th>Balance</th>\n",
       "      <th>NumOfProducts</th>\n",
       "      <th>HasCrCard</th>\n",
       "      <th>IsActiveMember</th>\n",
       "      <th>EstimatedSalary</th>\n",
       "      <th>Exited</th>\n",
       "    </tr>\n",
       "  </thead>\n",
       "  <tbody>\n",
       "    <tr>\n",
       "      <td>count</td>\n",
       "      <td>10000.00000</td>\n",
       "      <td>1.000000e+04</td>\n",
       "      <td>10000.000000</td>\n",
       "      <td>10000.000000</td>\n",
       "      <td>9091.000000</td>\n",
       "      <td>10000.000000</td>\n",
       "      <td>10000.000000</td>\n",
       "      <td>10000.00000</td>\n",
       "      <td>10000.000000</td>\n",
       "      <td>10000.000000</td>\n",
       "      <td>10000.000000</td>\n",
       "    </tr>\n",
       "    <tr>\n",
       "      <td>mean</td>\n",
       "      <td>5000.50000</td>\n",
       "      <td>1.569094e+07</td>\n",
       "      <td>650.528800</td>\n",
       "      <td>38.921800</td>\n",
       "      <td>4.997690</td>\n",
       "      <td>76485.889288</td>\n",
       "      <td>1.530200</td>\n",
       "      <td>0.70550</td>\n",
       "      <td>0.515100</td>\n",
       "      <td>100090.239881</td>\n",
       "      <td>0.203700</td>\n",
       "    </tr>\n",
       "    <tr>\n",
       "      <td>std</td>\n",
       "      <td>2886.89568</td>\n",
       "      <td>7.193619e+04</td>\n",
       "      <td>96.653299</td>\n",
       "      <td>10.487806</td>\n",
       "      <td>2.894723</td>\n",
       "      <td>62397.405202</td>\n",
       "      <td>0.581654</td>\n",
       "      <td>0.45584</td>\n",
       "      <td>0.499797</td>\n",
       "      <td>57510.492818</td>\n",
       "      <td>0.402769</td>\n",
       "    </tr>\n",
       "    <tr>\n",
       "      <td>min</td>\n",
       "      <td>1.00000</td>\n",
       "      <td>1.556570e+07</td>\n",
       "      <td>350.000000</td>\n",
       "      <td>18.000000</td>\n",
       "      <td>0.000000</td>\n",
       "      <td>0.000000</td>\n",
       "      <td>1.000000</td>\n",
       "      <td>0.00000</td>\n",
       "      <td>0.000000</td>\n",
       "      <td>11.580000</td>\n",
       "      <td>0.000000</td>\n",
       "    </tr>\n",
       "    <tr>\n",
       "      <td>25%</td>\n",
       "      <td>2500.75000</td>\n",
       "      <td>1.562853e+07</td>\n",
       "      <td>584.000000</td>\n",
       "      <td>32.000000</td>\n",
       "      <td>2.000000</td>\n",
       "      <td>0.000000</td>\n",
       "      <td>1.000000</td>\n",
       "      <td>0.00000</td>\n",
       "      <td>0.000000</td>\n",
       "      <td>51002.110000</td>\n",
       "      <td>0.000000</td>\n",
       "    </tr>\n",
       "    <tr>\n",
       "      <td>50%</td>\n",
       "      <td>5000.50000</td>\n",
       "      <td>1.569074e+07</td>\n",
       "      <td>652.000000</td>\n",
       "      <td>37.000000</td>\n",
       "      <td>5.000000</td>\n",
       "      <td>97198.540000</td>\n",
       "      <td>1.000000</td>\n",
       "      <td>1.00000</td>\n",
       "      <td>1.000000</td>\n",
       "      <td>100193.915000</td>\n",
       "      <td>0.000000</td>\n",
       "    </tr>\n",
       "    <tr>\n",
       "      <td>75%</td>\n",
       "      <td>7500.25000</td>\n",
       "      <td>1.575323e+07</td>\n",
       "      <td>718.000000</td>\n",
       "      <td>44.000000</td>\n",
       "      <td>7.000000</td>\n",
       "      <td>127644.240000</td>\n",
       "      <td>2.000000</td>\n",
       "      <td>1.00000</td>\n",
       "      <td>1.000000</td>\n",
       "      <td>149388.247500</td>\n",
       "      <td>0.000000</td>\n",
       "    </tr>\n",
       "    <tr>\n",
       "      <td>max</td>\n",
       "      <td>10000.00000</td>\n",
       "      <td>1.581569e+07</td>\n",
       "      <td>850.000000</td>\n",
       "      <td>92.000000</td>\n",
       "      <td>10.000000</td>\n",
       "      <td>250898.090000</td>\n",
       "      <td>4.000000</td>\n",
       "      <td>1.00000</td>\n",
       "      <td>1.000000</td>\n",
       "      <td>199992.480000</td>\n",
       "      <td>1.000000</td>\n",
       "    </tr>\n",
       "  </tbody>\n",
       "</table>\n",
       "</div>"
      ],
      "text/plain": [
       "         RowNumber    CustomerId   CreditScore           Age       Tenure  \\\n",
       "count  10000.00000  1.000000e+04  10000.000000  10000.000000  9091.000000   \n",
       "mean    5000.50000  1.569094e+07    650.528800     38.921800     4.997690   \n",
       "std     2886.89568  7.193619e+04     96.653299     10.487806     2.894723   \n",
       "min        1.00000  1.556570e+07    350.000000     18.000000     0.000000   \n",
       "25%     2500.75000  1.562853e+07    584.000000     32.000000     2.000000   \n",
       "50%     5000.50000  1.569074e+07    652.000000     37.000000     5.000000   \n",
       "75%     7500.25000  1.575323e+07    718.000000     44.000000     7.000000   \n",
       "max    10000.00000  1.581569e+07    850.000000     92.000000    10.000000   \n",
       "\n",
       "             Balance  NumOfProducts    HasCrCard  IsActiveMember  \\\n",
       "count   10000.000000   10000.000000  10000.00000    10000.000000   \n",
       "mean    76485.889288       1.530200      0.70550        0.515100   \n",
       "std     62397.405202       0.581654      0.45584        0.499797   \n",
       "min         0.000000       1.000000      0.00000        0.000000   \n",
       "25%         0.000000       1.000000      0.00000        0.000000   \n",
       "50%     97198.540000       1.000000      1.00000        1.000000   \n",
       "75%    127644.240000       2.000000      1.00000        1.000000   \n",
       "max    250898.090000       4.000000      1.00000        1.000000   \n",
       "\n",
       "       EstimatedSalary        Exited  \n",
       "count     10000.000000  10000.000000  \n",
       "mean     100090.239881      0.203700  \n",
       "std       57510.492818      0.402769  \n",
       "min          11.580000      0.000000  \n",
       "25%       51002.110000      0.000000  \n",
       "50%      100193.915000      0.000000  \n",
       "75%      149388.247500      0.000000  \n",
       "max      199992.480000      1.000000  "
      ]
     },
     "execution_count": 97,
     "metadata": {},
     "output_type": "execute_result"
    }
   ],
   "source": [
    "import pandas as pd\n",
    "import matplotlib.pyplot as plt\n",
    "import numpy as np\n",
    "from sklearn.tree import DecisionTreeClassifier\n",
    "from sklearn.ensemble import RandomForestClassifier\n",
    "from sklearn.linear_model import LogisticRegression\n",
    "from sklearn.model_selection import train_test_split\n",
    "from sklearn.preprocessing import OrdinalEncoder\n",
    "from sklearn.preprocessing import StandardScaler\n",
    "from sklearn.metrics import f1_score\n",
    "from sklearn.metrics import precision_score\n",
    "from sklearn.metrics import recall_score\n",
    "from sklearn.metrics import accuracy_score\n",
    "from sklearn.utils import shuffle\n",
    "from sklearn.metrics import roc_curve\n",
    "from sklearn.metrics import roc_auc_score\n",
    "from IPython.core.interactiveshell import InteractiveShell\n",
    "InteractiveShell.ast_node_interactivity = \"all\"\n",
    "\n",
    "\n",
    "df=pd.read_csv('/datasets/Churn.csv')\n",
    "df.info()\n",
    "df.describe()"
   ]
  },
  {
   "cell_type": "markdown",
   "metadata": {},
   "source": [
    "Заменим пропуски на 0 - маловероятно, что клиент банка решит скрывать недвижимость, скорее всего ее нет."
   ]
  },
  {
   "cell_type": "code",
   "execution_count": 98,
   "metadata": {},
   "outputs": [
    {
     "data": {
      "text/plain": [
       "RowNumber          0.0\n",
       "CustomerId         0.0\n",
       "Surname            0.0\n",
       "CreditScore        0.0\n",
       "Geography          0.0\n",
       "Gender             0.0\n",
       "Age                0.0\n",
       "Tenure             0.0\n",
       "Balance            0.0\n",
       "NumOfProducts      0.0\n",
       "HasCrCard          0.0\n",
       "IsActiveMember     0.0\n",
       "EstimatedSalary    0.0\n",
       "Exited             0.0\n",
       "dtype: float64"
      ]
     },
     "execution_count": 98,
     "metadata": {},
     "output_type": "execute_result"
    }
   ],
   "source": [
    "df['Tenure'] = df['Tenure'].fillna(0)\n",
    "df.isna().mean()"
   ]
  },
  {
   "cell_type": "markdown",
   "metadata": {},
   "source": [
    "Данные с фамилией, дублем индекса датафрейма и случайный номер не должны повлиять на наш анализ - избавимся от лишних столбцов."
   ]
  },
  {
   "cell_type": "code",
   "execution_count": 99,
   "metadata": {},
   "outputs": [
    {
     "data": {
      "text/plain": [
       "(10000, 11)"
      ]
     },
     "execution_count": 99,
     "metadata": {},
     "output_type": "execute_result"
    }
   ],
   "source": [
    "df = df.drop(['RowNumber','CustomerId','Surname'], axis=1)\n",
    "df.shape"
   ]
  },
  {
   "cell_type": "markdown",
   "metadata": {},
   "source": [
    "# 2. Исследование задачи"
   ]
  },
  {
   "cell_type": "markdown",
   "metadata": {},
   "source": [
    "Преобразуем категоральные признаки в численные"
   ]
  },
  {
   "cell_type": "code",
   "execution_count": 100,
   "metadata": {},
   "outputs": [
    {
     "name": "stdout",
     "output_type": "stream",
     "text": [
      "<class 'pandas.core.frame.DataFrame'>\n",
      "RangeIndex: 10000 entries, 0 to 9999\n",
      "Data columns (total 12 columns):\n",
      "CreditScore          10000 non-null int64\n",
      "Age                  10000 non-null int64\n",
      "Tenure               10000 non-null float64\n",
      "Balance              10000 non-null float64\n",
      "NumOfProducts        10000 non-null int64\n",
      "HasCrCard            10000 non-null int64\n",
      "IsActiveMember       10000 non-null int64\n",
      "EstimatedSalary      10000 non-null float64\n",
      "Exited               10000 non-null int64\n",
      "Geography_Germany    10000 non-null uint8\n",
      "Geography_Spain      10000 non-null uint8\n",
      "Gender_Male          10000 non-null uint8\n",
      "dtypes: float64(3), int64(6), uint8(3)\n",
      "memory usage: 732.5 KB\n"
     ]
    }
   ],
   "source": [
    "ohe_df = pd.get_dummies(df, drop_first=True)\n",
    "ohe_df.info()"
   ]
  },
  {
   "cell_type": "markdown",
   "metadata": {},
   "source": [
    "Исходя из стандартной пропорции 3:1:1 разобъем для начала на обучающую и валидационную, в пропорции 60/40.\n",
    "Валидационную выборку разобъем пополам, на валидационную и тестовую"
   ]
  },
  {
   "cell_type": "code",
   "execution_count": 101,
   "metadata": {},
   "outputs": [
    {
     "name": "stdout",
     "output_type": "stream",
     "text": [
      "(6000, 11) (2000, 11) (2000, 11)\n",
      "(6000,) (2000,) (2000,)\n"
     ]
    }
   ],
   "source": [
    "target = ohe_df['Exited']\n",
    "features = ohe_df.drop('Exited', axis=1)\n",
    "features_train, features_valid, target_train, target_valid = train_test_split(features, target, train_size=0.6, random_state=27)\n",
    "features_valid, features_test, target_valid, target_test = train_test_split(features_valid, target_valid, test_size=0.5, \n",
    "                                                                            random_state=27)\n",
    "print(features_train.shape, features_valid.shape, features_test.shape)\n",
    "print(target_train.shape, target_valid.shape, target_test.shape)"
   ]
  },
  {
   "cell_type": "markdown",
   "metadata": {},
   "source": [
    "Стандартизируем данные"
   ]
  },
  {
   "cell_type": "markdown",
   "metadata": {},
   "source": [
    "numeric=['CreditScore','Age','Tenure','Balance','NumOfProducts','HasCrCard','IsActiveMember','EstimatedSalary']\n",
    "scaler=StandardScaler()\n",
    "scaler.fit(features_train[numeric])\n",
    "features_train[numeric]=scaler.transform(features_train[numeric])\n",
    "features_valid[numeric]=scaler.transform(features_valid[numeric])\n",
    "pd.options.mode.chained_assignment = None"
   ]
  },
  {
   "cell_type": "markdown",
   "metadata": {},
   "source": [
    "Проверим дисбаланс"
   ]
  },
  {
   "cell_type": "code",
   "execution_count": 102,
   "metadata": {},
   "outputs": [
    {
     "data": {
      "text/plain": [
       "0    7963\n",
       "1    2037\n",
       "Name: Exited, dtype: int64"
      ]
     },
     "execution_count": 102,
     "metadata": {},
     "output_type": "execute_result"
    }
   ],
   "source": [
    "target.value_counts()"
   ]
  },
  {
   "cell_type": "markdown",
   "metadata": {},
   "source": [
    "Видим дисбаланс - соотношение 1:4."
   ]
  },
  {
   "cell_type": "markdown",
   "metadata": {},
   "source": [
    "Будем использовать следующие модели:DecisionTreeClassifier, RandomForestClassifier, LogisticRegression. Рассмотрим, как себя ведет DecisionTreeClassifier и проведем исследование на разное количество деревьев."
   ]
  },
  {
   "cell_type": "code",
   "execution_count": 103,
   "metadata": {},
   "outputs": [
    {
     "name": "stdout",
     "output_type": "stream",
     "text": [
      "max_depth: 2 F1: 0.530446549391069\n",
      "ROC AUC 0.7602099867724867\n",
      "max_depth: 3 F1: 0.39436619718309857\n",
      "ROC AUC 0.8088949121315194\n",
      "max_depth: 4 F1: 0.436426116838488\n",
      "ROC AUC 0.8239567094198792\n",
      "max_depth: 5 F1: 0.613941018766756\n",
      "ROC AUC 0.8392303535997733\n",
      "max_depth: 6 F1: 0.533724340175953\n",
      "ROC AUC 0.8363840761999245\n",
      "max_depth: 7 F1: 0.5654596100278552\n",
      "ROC AUC 0.8270126192838246\n",
      "max_depth: 8 F1: 0.5374823196605375\n",
      "ROC AUC 0.8028561685090703\n",
      "max_depth: 9 F1: 0.5691275167785235\n",
      "ROC AUC 0.8038445412887378\n",
      "max_depth: 10 F1: 0.5568627450980393\n",
      "ROC AUC 0.7626967887849584\n",
      "max_depth: 11 F1: 0.5373891001267427\n",
      "ROC AUC 0.7382827262849585\n",
      "CPU times: user 303 ms, sys: 7.9 ms, total: 311 ms\n",
      "Wall time: 311 ms\n"
     ]
    }
   ],
   "source": [
    "%%time\n",
    "\n",
    "for depth in range(2,12,1):\n",
    "    model_tree=DecisionTreeClassifier(max_depth=depth,random_state=27).fit(features_train, target_train)\n",
    "    prediction=model_tree.predict(features_valid)\n",
    "    probabilities_one_valid = model_tree.predict_proba(features_valid)[:, 1]\n",
    "    print('max_depth:',depth,'F1:',f1_score(target_valid,prediction))\n",
    "    print('ROC AUC', roc_auc_score(target_valid, probabilities_one_valid))"
   ]
  },
  {
   "cell_type": "markdown",
   "metadata": {},
   "source": [
    "Посмотрим на RandomForestClassifier"
   ]
  },
  {
   "cell_type": "code",
   "execution_count": 104,
   "metadata": {},
   "outputs": [
    {
     "name": "stdout",
     "output_type": "stream",
     "text": [
      "estim 1 F1: 0.5313351498637602\n",
      "ROC AUC 0.7552319538926682\n",
      "estim 2 F1: 0.48409405255878285\n",
      "ROC AUC 0.7782391168272864\n",
      "estim 3 F1: 0.5589041095890411\n",
      "ROC AUC 0.8038460175736961\n",
      "estim 4 F1: 0.5454545454545454\n",
      "ROC AUC 0.8143342840608465\n",
      "estim 5 F1: 0.566145092460882\n",
      "ROC AUC 0.8231432764077853\n",
      "estim 6 F1: 0.5592011412268189\n",
      "ROC AUC 0.8292956939720333\n",
      "estim 7 F1: 0.575070821529745\n",
      "ROC AUC 0.8353824168556311\n",
      "estim 8 F1: 0.5702005730659025\n",
      "ROC AUC 0.8396791442271353\n",
      "estim 9 F1: 0.5738880918220947\n",
      "ROC AUC 0.8416832010582012\n",
      "CPU times: user 573 ms, sys: 115 µs, total: 573 ms\n",
      "Wall time: 578 ms\n"
     ]
    }
   ],
   "source": [
    "%%time\n",
    "\n",
    "for estim in range(1,10,1):\n",
    "    model_forest=RandomForestClassifier(max_depth=depth,n_estimators=estim,random_state=27).fit(features_train, target_train)\n",
    "    prediction=model_forest.predict(features_valid)\n",
    "    probabilities_one_valid = model_forest.predict_proba(features_valid)[:, 1]\n",
    "    print('estim',estim,'F1:',f1_score(target_valid,prediction))\n",
    "    print('ROC AUC', roc_auc_score(target_valid, probabilities_one_valid))"
   ]
  },
  {
   "cell_type": "markdown",
   "metadata": {},
   "source": [
    "Смотрим на логистическую регрессию "
   ]
  },
  {
   "cell_type": "code",
   "execution_count": 105,
   "metadata": {},
   "outputs": [
    {
     "name": "stdout",
     "output_type": "stream",
     "text": [
      "F1 0.0\n",
      "ROC AUC 0.6631885393046106\n",
      "CPU times: user 92.9 ms, sys: 56.3 ms, total: 149 ms\n",
      "Wall time: 119 ms\n"
     ]
    }
   ],
   "source": [
    "%%time\n",
    "\n",
    "model =  LogisticRegression(random_state=27, solver='liblinear')\n",
    "model.fit(features_train, target_train)\n",
    "predicted_valid = model.predict(features_valid)\n",
    "probabilities_one_valid = model.predict_proba(features_valid)[:, 1]\n",
    "print('F1', f1_score(target_valid, predicted_valid))\n",
    "print('ROC AUC', roc_auc_score(target_valid, probabilities_one_valid))"
   ]
  },
  {
   "cell_type": "markdown",
   "metadata": {},
   "source": [
    "Применяя к трем моделями категоризацию и стандартизацию (без учета дисбаланса) можно сделать вывод, что оптимальной моделью оказалась DecisionTreeClassifier."
   ]
  },
  {
   "cell_type": "markdown",
   "metadata": {},
   "source": [
    "# 3. Борьба с дисбалансом"
   ]
  },
  {
   "cell_type": "markdown",
   "metadata": {},
   "source": [
    "Воспользуемся фукцией upsampling"
   ]
  },
  {
   "cell_type": "code",
   "execution_count": 106,
   "metadata": {},
   "outputs": [],
   "source": [
    "def upsample(features, target, repeat):\n",
    "    features_zeros = features[target == 0]\n",
    "    features_ones = features[target == 1]\n",
    "    target_zeros = target[target == 0]\n",
    "    target_ones = target[target == 1]\n",
    "\n",
    "    features_upsampled = pd.concat([features_zeros] + [features_ones] * repeat)\n",
    "    target_upsampled = pd.concat([target_zeros] + [target_ones] * repeat)\n",
    "    \n",
    "    features_upsampled, target_upsampled = shuffle(\n",
    "        features_upsampled, target_upsampled, random_state=27)\n",
    "    \n",
    "    return features_upsampled, target_upsampled\n",
    "\n",
    "features_upsampled, target_upsampled = upsample(features_train, target_train, 4)"
   ]
  },
  {
   "cell_type": "markdown",
   "metadata": {},
   "source": [
    "Воспользуемся функцией downsampling"
   ]
  },
  {
   "cell_type": "code",
   "execution_count": 107,
   "metadata": {},
   "outputs": [],
   "source": [
    "def downsample(features, target, fraction):\n",
    "    features_zeros = features[target == 0]\n",
    "    features_ones = features[target == 1]\n",
    "    target_zeros = target[target == 0]\n",
    "    target_ones = target[target == 1]\n",
    "\n",
    "    features_downsampled = pd.concat(\n",
    "        [features_zeros.sample(frac=fraction, random_state=27)] + [features_ones])\n",
    "    target_downsampled = pd.concat(\n",
    "        [target_zeros.sample(frac=fraction, random_state=27)] + [target_ones])\n",
    "    \n",
    "    features_downsampled, target_downsampled = shuffle(\n",
    "        features_downsampled, target_downsampled, random_state=27)\n",
    "    \n",
    "    return features_downsampled, target_downsampled\n",
    "\n",
    "features_downsampled, target_downsampled = downsample(features_train, target_train, 0.4)"
   ]
  },
  {
   "cell_type": "markdown",
   "metadata": {},
   "source": [
    "Разобьем имеющийся массив на три набора"
   ]
  },
  {
   "cell_type": "markdown",
   "metadata": {},
   "source": [
    "Обучим наши модели на новых данных и посмотрим на результаты."
   ]
  },
  {
   "cell_type": "code",
   "execution_count": 108,
   "metadata": {},
   "outputs": [
    {
     "name": "stdout",
     "output_type": "stream",
     "text": [
      "Размер обучающей выборки: (9672, 11)\n",
      "Размер валидационной выборки: (2000, 11)\n",
      "Размер тестовой выборки: (2000, 11)\n"
     ]
    }
   ],
   "source": [
    "features_train = features_upsampled\n",
    "target_train = target_upsampled\n",
    "\n",
    "print(\"Размер обучающей выборки: {}\".format(features_train.shape))\n",
    "print(\"Размер валидационной выборки: {}\".format(features_valid.shape))\n",
    "print(\"Размер тестовой выборки: {}\".format(features_test.shape))"
   ]
  },
  {
   "cell_type": "code",
   "execution_count": 109,
   "metadata": {},
   "outputs": [
    {
     "name": "stdout",
     "output_type": "stream",
     "text": [
      "max_depth: 11 F1: 0.566990291262136\n",
      "ROC AUC 0.7684476568405141\n",
      "CPU times: user 54.8 ms, sys: 0 ns, total: 54.8 ms\n",
      "Wall time: 52.2 ms\n"
     ]
    }
   ],
   "source": [
    "%%time\n",
    "\n",
    "model_tree=DecisionTreeClassifier(max_depth=depth,random_state=27).fit(features_upsampled, target_upsampled)\n",
    "prediction=model_tree.predict(features_valid)\n",
    "probabilities_one_valid = model_tree.predict_proba(features_valid)[:, 1]\n",
    "print('max_depth:',depth,'F1:',f1_score(target_valid,prediction))\n",
    "print('ROC AUC', roc_auc_score(target_valid, probabilities_one_valid))"
   ]
  },
  {
   "cell_type": "code",
   "execution_count": 83,
   "metadata": {},
   "outputs": [
    {
     "name": "stdout",
     "output_type": "stream",
     "text": [
      "max_depth: 11 F1: 0.5395256916996047\n",
      "ROC AUC 0.7393456514550264\n",
      "CPU times: user 36.3 ms, sys: 10 µs, total: 36.4 ms\n",
      "Wall time: 42.9 ms\n"
     ]
    }
   ],
   "source": [
    "%%time\n",
    "\n",
    "model_tree=DecisionTreeClassifier(max_depth=depth,random_state=27).fit(features_downsampled, target_downsampled)\n",
    "prediction=model_tree.predict(features_valid)\n",
    "probabilities_one_valid = model_tree.predict_proba(features_valid)[:, 1]\n",
    "print('max_depth:',depth,'F1:',f1_score(target_valid,prediction))\n",
    "print('ROC AUC', roc_auc_score(target_valid, probabilities_one_valid))"
   ]
  },
  {
   "cell_type": "code",
   "execution_count": 84,
   "metadata": {},
   "outputs": [
    {
     "name": "stdout",
     "output_type": "stream",
     "text": [
      "estim 9 F1: 0.6222222222222222\n",
      "ROC AUC 0.8534595261715797\n",
      "CPU times: user 156 ms, sys: 0 ns, total: 156 ms\n",
      "Wall time: 155 ms\n"
     ]
    }
   ],
   "source": [
    "%%time\n",
    "\n",
    "model_forest=RandomForestClassifier(max_depth=depth,n_estimators=estim,random_state=27).fit(features_train, target_train)\n",
    "prediction=model_forest.predict(features_valid)\n",
    "probabilities_one_valid = model_forest.predict_proba(features_valid)[:, 1]\n",
    "print('estim',estim,'F1:',f1_score(target_valid,prediction))\n",
    "print('ROC AUC', roc_auc_score(target_valid, probabilities_one_valid))"
   ]
  },
  {
   "cell_type": "code",
   "execution_count": 85,
   "metadata": {
    "scrolled": false
   },
   "outputs": [
    {
     "name": "stdout",
     "output_type": "stream",
     "text": [
      "estim 9 F1: 0.6018808777429467\n",
      "ROC AUC 0.8381157584561602\n",
      "CPU times: user 77.9 ms, sys: 0 ns, total: 77.9 ms\n",
      "Wall time: 88.1 ms\n"
     ]
    }
   ],
   "source": [
    "%%time\n",
    "\n",
    "model_forest=RandomForestClassifier(max_depth=depth,n_estimators=estim,random_state=27).fit(features_downsampled, target_downsampled)\n",
    "prediction=model_forest.predict(features_valid)\n",
    "probabilities_one_valid = model_forest.predict_proba(features_valid)[:, 1]\n",
    "print('estim',estim,'F1:',f1_score(target_valid,prediction))\n",
    "print('ROC AUC', roc_auc_score(target_valid, probabilities_one_valid))\n"
   ]
  },
  {
   "cell_type": "code",
   "execution_count": 86,
   "metadata": {},
   "outputs": [
    {
     "name": "stdout",
     "output_type": "stream",
     "text": [
      "F1 0.47711927981995494\n",
      "ROC AUC 0.7339867370559334\n",
      "CPU times: user 170 ms, sys: 93.1 ms, total: 263 ms\n",
      "Wall time: 243 ms\n"
     ]
    }
   ],
   "source": [
    "%%time\n",
    "\n",
    "model=LogisticRegression(random_state=27, solver='liblinear')\n",
    "model.fit(features_train, target_train)\n",
    "predicted_valid = model.predict(features_valid)\n",
    "probabilities_one_valid = model.predict_proba(features_valid)[:, 1]\n",
    "print('F1', f1_score(target_valid, predicted_valid))\n",
    "print('ROC AUC', roc_auc_score(target_valid, probabilities_one_valid))"
   ]
  },
  {
   "cell_type": "code",
   "execution_count": 87,
   "metadata": {},
   "outputs": [
    {
     "name": "stdout",
     "output_type": "stream",
     "text": [
      "F1 0.42840512223515714\n",
      "ROC AUC 0.7142133763227513\n",
      "CPU times: user 55.5 ms, sys: 76.2 ms, total: 132 ms\n",
      "Wall time: 128 ms\n"
     ]
    }
   ],
   "source": [
    "%%time\n",
    "\n",
    "model=LogisticRegression(random_state=27, solver='liblinear')\n",
    "model.fit(features_downsampled, target_downsampled)\n",
    "predicted_valid = model.predict(features_valid)\n",
    "probabilities_one_valid = model.predict_proba(features_valid)[:, 1]\n",
    "print('F1', f1_score(target_valid, predicted_valid))\n",
    "print('ROC AUC', roc_auc_score(target_valid, probabilities_one_valid))"
   ]
  },
  {
   "cell_type": "markdown",
   "metadata": {},
   "source": [
    "Лучше всего себя проявила модель RandomForestClassifier - подберем для нее значения гиперпараметров."
   ]
  },
  {
   "cell_type": "code",
   "execution_count": 88,
   "metadata": {},
   "outputs": [
    {
     "name": "stdout",
     "output_type": "stream",
     "text": [
      "max_depth: 10 F1: 0.6072144288577155\n",
      "ROC AUC 0.8467616213151927\n",
      "max_depth: 11 F1: 0.6222222222222222\n",
      "ROC AUC 0.8534595261715797\n",
      "max_depth: 12 F1: 0.6124604012671594\n",
      "ROC AUC 0.8510339899848829\n",
      "max_depth: 13 F1: 0.6226622662266227\n",
      "ROC AUC 0.8345756271258504\n",
      "max_depth: 14 F1: 0.6036446469248291\n",
      "ROC AUC 0.8424427496693122\n",
      "max_depth: 15 F1: 0.5901262916188289\n",
      "ROC AUC 0.8224413029100528\n",
      "max_depth: 16 F1: 0.6139747995418098\n",
      "ROC AUC 0.8397824841742252\n",
      "max_depth: 17 F1: 0.586248492159228\n",
      "ROC AUC 0.8192458841175361\n",
      "max_depth: 18 F1: 0.5731559854897218\n",
      "ROC AUC 0.8138995181405896\n",
      "max_depth: 19 F1: 0.5907473309608541\n",
      "ROC AUC 0.8239744248393801\n",
      "CPU times: user 1.65 s, sys: 15.9 ms, total: 1.67 s\n",
      "Wall time: 1.7 s\n"
     ]
    }
   ],
   "source": [
    "%%time\n",
    "\n",
    "for max_depth in range(10,20,1):\n",
    "    model_forest=RandomForestClassifier(max_depth=max_depth,n_estimators=estim,random_state=27)\n",
    "    model_forest.fit(features_train, target_train)\n",
    "    prediction=model_forest.predict(features_valid)\n",
    "    probabilities_one_valid = model_forest.predict_proba(features_valid)[:, 1]\n",
    "    print('max_depth:',max_depth,'F1:',f1_score(target_valid,prediction))\n",
    "    print('ROC AUC', roc_auc_score(target_valid, probabilities_one_valid))"
   ]
  },
  {
   "cell_type": "code",
   "execution_count": 89,
   "metadata": {},
   "outputs": [
    {
     "name": "stdout",
     "output_type": "stream",
     "text": [
      "estim 25 F1: 0.6471277842907385\n",
      "ROC AUC 0.8585342557161754\n",
      "estim 26 F1: 0.6526806526806528\n",
      "ROC AUC 0.8601537403155707\n",
      "estim 27 F1: 0.6448598130841121\n",
      "ROC AUC 0.860102808484505\n",
      "estim 28 F1: 0.6494724501758499\n",
      "ROC AUC 0.8606320566421012\n",
      "estim 29 F1: 0.6502923976608186\n",
      "ROC AUC 0.8617090065192743\n",
      "estim 30 F1: 0.6550522648083622\n",
      "ROC AUC 0.8614174402399849\n",
      "estim 31 F1: 0.6582278481012659\n",
      "ROC AUC 0.8603648490646258\n",
      "estim 32 F1: 0.6558891454965359\n",
      "ROC AUC 0.8600467096560847\n",
      "estim 33 F1: 0.6605080831408776\n",
      "ROC AUC 0.8605870299508692\n",
      "estim 34 F1: 0.6511627906976742\n",
      "ROC AUC 0.8612971230158729\n",
      "CPU times: user 4.85 s, sys: 30.9 ms, total: 4.88 s\n",
      "Wall time: 4.93 s\n"
     ]
    }
   ],
   "source": [
    "%%time\n",
    "\n",
    "for estim in range(25,35,1):\n",
    "    model_forest=RandomForestClassifier(max_depth=14,n_estimators=estim,random_state=27)\n",
    "    model_forest.fit(features_train, target_train)\n",
    "    prediction=model_forest.predict(features_valid)\n",
    "    probabilities_one_valid = model_forest.predict_proba(features_valid)[:, 1]\n",
    "    print('estim',estim,'F1:',f1_score(target_valid,prediction))\n",
    "    print('ROC AUC', roc_auc_score(target_valid, probabilities_one_valid))"
   ]
  },
  {
   "cell_type": "markdown",
   "metadata": {},
   "source": [
    "Подобрали значения гиперпараметров - переходим к тестированию модели."
   ]
  },
  {
   "cell_type": "markdown",
   "metadata": {},
   "source": [
    "# 4. Тестирование модели"
   ]
  },
  {
   "cell_type": "code",
   "execution_count": 95,
   "metadata": {},
   "outputs": [
    {
     "data": {
      "text/plain": [
       "RandomForestClassifier(bootstrap=True, class_weight=None, criterion='gini',\n",
       "                       max_depth=14, max_features='auto', max_leaf_nodes=None,\n",
       "                       min_impurity_decrease=0.0, min_impurity_split=None,\n",
       "                       min_samples_leaf=1, min_samples_split=2,\n",
       "                       min_weight_fraction_leaf=0.0, n_estimators=33,\n",
       "                       n_jobs=None, oob_score=False, random_state=27, verbose=0,\n",
       "                       warm_start=False)"
      ]
     },
     "execution_count": 95,
     "metadata": {},
     "output_type": "execute_result"
    },
    {
     "name": "stdout",
     "output_type": "stream",
     "text": [
      "Наилучшая модель\n",
      "F1: 0.618798955613577\n",
      "F1: 0.6605080831408776\n"
     ]
    }
   ],
   "source": [
    "model_forest = RandomForestClassifier(max_depth=14,n_estimators=33,random_state=27)\n",
    "model_forest.fit(features_train, target_train) \n",
    "prediction_test = model_forest.predict(features_test)\n",
    "prediction_valid = model_forest.predict(features_valid)\n",
    "probabilities_one_test = model.predict_proba(features_test)[:, 1]\n",
    "probabilities_one_valid = model.predict_proba(features_valid)[:, 1]\n",
    "\n",
    "print(\"Наилучшая модель\")\n",
    "print('F1:',f1_score(target_test, prediction_test ))\n",
    "print('F1:',f1_score(target_valid, prediction_valid))"
   ]
  },
  {
   "cell_type": "code",
   "execution_count": null,
   "metadata": {},
   "outputs": [],
   "source": [
    "model_forest = RandomForestClassifier(max_depth=14,n_estimators=33,random_state=27)\n",
    "model_forest.fit(features_train, target_train) \n",
    "prediction_test = model_forest.predict(features_test)\n",
    "probabilities_one_valid = model.predict_proba(features_test)[:, 1]\n",
    "\n",
    "fpr, tpr, thresholds = roc_curve(target_test, probabilities_one_valid) \n",
    "\n",
    "plt.figure(figsize=(10, 10))\n",
    "plt.plot(fpr, tpr, label='ROC-кривая на тестовой')\n",
    "plt.plot([0, 1], [0, 1], linestyle='--')\n",
    "plt.legend()\n",
    "plt.xlim([0.0, 1.0])\n",
    "plt.ylim([0.0, 1.0])\n",
    "plt.xlabel('False Positive Rate')\n",
    "plt.ylabel('True Positive Rate')\n",
    "plt.title('ROC-кривая')\n",
    "\n",
    "plt.show();"
   ]
  },
  {
   "cell_type": "markdown",
   "metadata": {},
   "source": [
    "Для понимания работы модели посмотрим как она ранжировала признаки по важности."
   ]
  },
  {
   "cell_type": "code",
   "execution_count": 94,
   "metadata": {},
   "outputs": [
    {
     "name": "stdout",
     "output_type": "stream",
     "text": [
      "                   importance\n",
      "feature                      \n",
      "Age                     0.262\n",
      "NumOfProducts           0.145\n",
      "Balance                 0.138\n",
      "EstimatedSalary         0.132\n",
      "CreditScore             0.124\n",
      "Tenure                  0.073\n",
      "IsActiveMember          0.040\n",
      "Geography_Germany       0.032\n",
      "Gender_Male             0.023\n",
      "HasCrCard               0.016\n",
      "Geography_Spain         0.015\n"
     ]
    },
    {
     "data": {
      "image/png": "[encoded data removed]",
      "text/plain": [
       "<Figure size 432x288 with 1 Axes>"
      ]
     },
     "metadata": {
      "needs_background": "light"
     },
     "output_type": "display_data"
    }
   ],
   "source": [
    "model_forest = RandomForestClassifier(max_depth=14,n_estimators=33,random_state=27)\n",
    "model_forest.fit(features_train, target_train) \n",
    "prediction_test = model_forest.predict(features_test)\n",
    "probabilities_one_valid = model.predict_proba(features_test)[:, 1]\n",
    "\n",
    "importances = pd.DataFrame({'feature':features_train.columns,'importance':np.round(model_forest.feature_importances_,3)})\n",
    "importances = importances.sort_values('importance',ascending=False).set_index('feature')\n",
    "print(importances)\n",
    "importances.plot.bar();"
   ]
  },
  {
   "cell_type": "markdown",
   "metadata": {},
   "source": [
    "Выясним как сильно результаты нашей модели отличаются от результатов случайной."
   ]
  },
  {
   "cell_type": "code",
   "execution_count": 93,
   "metadata": {},
   "outputs": [
    {
     "name": "stdout",
     "output_type": "stream",
     "text": [
      "0.6891928039569483\n"
     ]
    }
   ],
   "source": [
    "auc_roc = roc_auc_score(target_test, probabilities_one_valid)\n",
    "print(auc_roc)"
   ]
  },
  {
   "cell_type": "markdown",
   "metadata": {},
   "source": [
    "Обученная модель случайного леса со взвешенными классами имеет достаточную адекватность, подтвержденная ее значением AUC-ROC. Это лучше, чем случайная модель предсказывания (AUC-ROC = 0.5).\n",
    "Модель можно рекомендовать для пронозирования оттока на реальных данных."
   ]
  },
  {
   "cell_type": "markdown",
   "metadata": {},
   "source": [
    "# Чек-лист готовности проекта"
   ]
  },
  {
   "cell_type": "markdown",
   "metadata": {},
   "source": [
    "Поставьте 'x' в выполненных пунктах. Далее нажмите Shift+Enter."
   ]
  },
  {
   "cell_type": "markdown",
   "metadata": {},
   "source": [
    "- [x]  Jupyter Notebook открыт\n",
    "- [x]  Весь код выполняется без ошибок\n",
    "- [x]  Ячейки с кодом расположены в порядке исполнения\n",
    "- [x]  Выполнен шаг 1: данные подготовлены\n",
    "- [x]  Выполнен шаг 2: задача исследована\n",
    "    - [x]  Исследован баланс классов\n",
    "    - [x]  Изучены модели без учёта дисбаланса\n",
    "    - [x]  Написаны выводы по результатам исследования\n",
    "- [x]  Выполнен шаг 3: учтён дисбаланс\n",
    "    - [x]  Применено несколько способов борьбы с дисбалансом\n",
    "    - [x]  Написаны выводы по результатам исследования\n",
    "- [x]  Выполнен шаг 4: проведено тестирование\n",
    "- [x]  Удалось достичь *F1*-меры не менее 0.59\n",
    "- [x]  Исследована метрика *AUC-ROC*"
   ]
  }
 ],
 "metadata": {
  "kernelspec": {
   "display_name": "Python 3",
   "language": "python",
   "name": "python3"
  },
  "language_info": {
   "codemirror_mode": {
    "name": "ipython",
    "version": 3
   },
   "file_extension": ".py",
   "mimetype": "text/x-python",
   "name": "python",
   "nbconvert_exporter": "python",
   "pygments_lexer": "ipython3",
   "version": "3.7.8"
  },
  "toc": {
   "base_numbering": 1,
   "nav_menu": {},
   "number_sections": true,
   "sideBar": true,
   "skip_h1_title": true,
   "title_cell": "Table of Contents",
   "title_sidebar": "Contents",
   "toc_cell": false,
   "toc_position": {},
   "toc_section_display": true,
   "toc_window_display": false
  }
 },
 "nbformat": 4,
 "nbformat_minor": 2
}
